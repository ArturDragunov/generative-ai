{
 "cells": [
  {
   "cell_type": "markdown",
   "metadata": {},
   "source": [
    "### Named Entity Recognition"
   ]
  },
  {
   "cell_type": "raw",
   "metadata": {},
   "source": [
    "sentence=\"The Eiffel Tower was built from 1887 to 1889 by French engineer Gustave Eiffel, whose company specialized in building metal frameworks and structures.\"\n",
    "\"\"\"\n",
    "Person Eg: Krish C Naik\n",
    "Place Or Location Eg: India\n",
    "Date Eg: September,24-09-1989\n",
    "Time  Eg: 4:30pm\n",
    "Money Eg: 1 million dollar\n",
    "Organization Eg: iNeuron Private Limited\n",
    "Percent Eg: 20%, twenty percent\n",
    "\"\"\""
   ]
  },
  {
   "cell_type": "code",
   "execution_count": 1,
   "metadata": {},
   "outputs": [],
   "source": [
    "sentence=\"The Eiffel Tower was built from 1887 to 1889 by Gustave Eiffel, whose company specialized in building metal frameworks and structures.\""
   ]
  },
  {
   "cell_type": "code",
   "execution_count": 2,
   "metadata": {},
   "outputs": [],
   "source": [
    "import nltk\n",
    "words=nltk.word_tokenize(sentence)"
   ]
  },
  {
   "cell_type": "code",
   "execution_count": 3,
   "metadata": {},
   "outputs": [],
   "source": [
    "tag_elements=nltk.pos_tag(words)"
   ]
  },
  {
   "cell_type": "code",
   "execution_count": 7,
   "metadata": {},
   "outputs": [
    {
     "name": "stderr",
     "output_type": "stream",
     "text": [
      "[nltk_data] Downloading package maxent_ne_chunker to C:\\Users\\Artur\n",
      "[nltk_data]     Dragunov\\AppData\\Roaming\\nltk_data...\n",
      "[nltk_data]   Package maxent_ne_chunker is already up-to-date!\n",
      "[nltk_data] Downloading package maxent_ne_chunker_tab to\n",
      "[nltk_data]     C:\\Users\\Artur Dragunov\\AppData\\Roaming\\nltk_data...\n",
      "[nltk_data]   Unzipping chunkers\\maxent_ne_chunker_tab.zip.\n"
     ]
    },
    {
     "data": {
      "text/plain": [
       "True"
      ]
     },
     "execution_count": 7,
     "metadata": {},
     "output_type": "execute_result"
    }
   ],
   "source": [
    "nltk.download('maxent_ne_chunker')\n",
    "nltk.download('maxent_ne_chunker_tab')"
   ]
  },
  {
   "cell_type": "code",
   "execution_count": 5,
   "metadata": {},
   "outputs": [
    {
     "name": "stderr",
     "output_type": "stream",
     "text": [
      "[nltk_data] Downloading package words to C:\\Users\\Artur\n",
      "[nltk_data]     Dragunov\\AppData\\Roaming\\nltk_data...\n",
      "[nltk_data]   Unzipping corpora\\words.zip.\n"
     ]
    },
    {
     "data": {
      "text/plain": [
       "True"
      ]
     },
     "execution_count": 5,
     "metadata": {},
     "output_type": "execute_result"
    }
   ],
   "source": [
    "nltk.download('words')"
   ]
  },
  {
   "cell_type": "code",
   "execution_count": 14,
   "metadata": {},
   "outputs": [
    {
     "name": "stdout",
     "output_type": "stream",
     "text": [
      "('The', 'DT')\n",
      "(ORGANIZATION Eiffel/NNP Tower/NNP)\n",
      "('was', 'VBD')\n",
      "('built', 'VBN')\n",
      "('from', 'IN')\n",
      "('1887', 'CD')\n",
      "('to', 'TO')\n",
      "('1889', 'CD')\n",
      "('by', 'IN')\n",
      "(PERSON Gustave/NNP Eiffel/NNP)\n",
      "(',', ',')\n",
      "('whose', 'WP$')\n",
      "('company', 'NN')\n",
      "('specialized', 'VBD')\n",
      "('in', 'IN')\n",
      "('building', 'NN')\n",
      "('metal', 'NN')\n",
      "('frameworks', 'NNS')\n",
      "('and', 'CC')\n",
      "('structures', 'NNS')\n",
      "('.', '.')\n",
      "output [('Eiffel Tower', 'ORGANIZATION'), ('Gustave Eiffel', 'PERSON')]\n"
     ]
    }
   ],
   "source": [
    "chunked = nltk.ne_chunk(tag_elements)\n",
    "named_entities = []\n",
    "\n",
    "for subtree in chunked: #✅ Iterates over each element in the chunked tree. Each element is either:\n",
    "#  A tuple (non-entity word - ('The', 'DT')), or A subtree (a group of words recognized as a named entity: ORGANIZATION Eiffel/NNP Tower/NNP))\n",
    "    if hasattr(subtree, 'label'): # ✅ Checks if the element is a subtree — i.e., a recognized named entity (not just a word). (if it has \"label\" attribute)\n",
    "        entity_name = \" \".join([token for token, pos in subtree]) # ✅ Extracts the text of the named entity from the subtree: Each subtree contains several (word, POS) pairs.We collect the words (tokens) and join them with spaces.\n",
    "        entity_type = subtree.label() # ✅ Gets the entity type label, like PERSON, GPE, etc.\n",
    "        named_entities.append((entity_name, entity_type)) # ✅ Adds a tuple of the entity and its type to the result list.\n",
    "    print(subtree)\n",
    "            \n",
    "\n",
    "print('output', named_entities)"
   ]
  },
  {
   "cell_type": "code",
   "execution_count": null,
   "metadata": {},
   "outputs": [],
   "source": [
    "nltk.ne_chunk(tag_elements).draw()"
   ]
  }
 ],
 "metadata": {
  "kernelspec": {
   "display_name": "venv",
   "language": "python",
   "name": "python3"
  },
  "language_info": {
   "codemirror_mode": {
    "name": "ipython",
    "version": 3
   },
   "file_extension": ".py",
   "mimetype": "text/x-python",
   "name": "python",
   "nbconvert_exporter": "python",
   "pygments_lexer": "ipython3",
   "version": "3.10.2"
  }
 },
 "nbformat": 4,
 "nbformat_minor": 4
}
